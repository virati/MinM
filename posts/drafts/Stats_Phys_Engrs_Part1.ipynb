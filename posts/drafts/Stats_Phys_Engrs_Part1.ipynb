{
 "cells": [
  {
   "cell_type": "markdown",
   "metadata": {},
   "source": [
    "# Statistics for the Physician-Engineer\n",
    "## Part 1: Framing the Scientific Method\n",
    "\n",
    "### Summary\n",
    "\n",
    "Engineers and physicians share a lot in common with each other. Statistics is one of those things. Both groups are very comfortable with building up mental models of their work, testing those models through trial and error, and making snap judgements based off of scarce data. This is often referred to as \"art\" but is actually a rigorous branch of statistical thinking. This series is an attempt to become better at statistics by building up an understanding from first principles.\n",
    "\n",
    "### Let's set up the problem\n",
    "\n",
    "When most people learn about science they learn about it in the context of experimental methods. In short, experiment design is built around one core question: is *Y* related to *X*?\n",
    "\n",
    "Let's draw this out as a simple experiment using something that we can all connect with: enzymes converting a molecule into another molecule.\n",
    "\n",
    "#### The setup\n",
    "\n",
    "We have an enzyme E and believe it turns \"Crud\" into \"Curd\". The first step in our experiment is to clearly layout our hypotheses.\n",
    "\n"
   ]
  },
  {
   "cell_type": "markdown",
   "metadata": {},
   "source": [
    "### Alternative approach\n",
    "\n",
    "Let's say our literature is great. Like, really great. A lot of great work has been done and we want to do more than just use that work to set up a simple null-hypothesis. We want to use that work to say something strong about the proposed models that are out there. And we want to do it quickly, cheaply, but rigorously.\n",
    "\n",
    "There is an approach for that.\n",
    "\n"
   ]
  }
 ],
 "metadata": {
  "kernelspec": {
   "display_name": "Python 3",
   "language": "python",
   "name": "python3"
  },
  "language_info": {
   "codemirror_mode": {
    "name": "ipython",
    "version": 3
   },
   "file_extension": ".py",
   "mimetype": "text/x-python",
   "name": "python",
   "nbconvert_exporter": "python",
   "pygments_lexer": "ipython3",
   "version": "3.6.0"
  }
 },
 "nbformat": 4,
 "nbformat_minor": 2
}
