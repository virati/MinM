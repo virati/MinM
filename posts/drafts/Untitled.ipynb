{
 "cells": [
  {
   "cell_type": "markdown",
   "metadata": {},
   "source": [
    "# Treating Depression with Neuromodulation\n",
    "\n",
    "## Using electrical stimulation of the brain's electrical dynamics to alleviate disease (state)\n",
    "\n",
    "### Introduction\n",
    "A large bolus of money has gone into the field of deep brain stimulation (DBS) for psychiatric illness. With players like DARPA entering the fray, a lot of data is about to be generated. Unfortunately, the quantitative framework and analytical tools needed to make sense of that data is lacking and only gradually making its way into the field.\n",
    "\n",
    "#### Why dynamics and not state?\n",
    "\n",
    "In the example we will illustrate, state is the value of the electrical field for various brain regions at a given moment in time. This is a very noisy measure and, as we will see in simple systems, can be very misleading.\n",
    "\n",
    "If we look, instead, at dynamics, we may see concrete, reproducible patterns. As an example: if we follow a single particle in a river, it'll be really hard to understand the overall flow of the river. But if we, instead, try to understand how a particular particle that passes through a spot tends to move, we study the dynamics and flow.\n",
    "\n",
    "### An illustration\n",
    "\n",
    "What exactly do we want in a biometric of depression? Well, we want some numbers that can be used to cleanly. Like what?\n",
    "\n",
    "#### A quick model\n",
    "\n",
    "Let's setup a quick model to illustrate the larger point we want to make in this post. Let's say that depression is when the left alpha is high and the right alpha is low. In this case, we have a two dimensional system and can make some decision regions to figure out what the disease is from the state measure.\n",
    "\n",
    "#### Dynamics\n",
    "In the case of depression, the problem could be that the brain's state stays in the above configuration *no matter what the input is*. This is a problem, obviously, as different inputs into the brain should elicit appropriately different responses.\n",
    "\n",
    "In this case, we'll go ahead and assume that \"normal people\" have oscillations between good and bad. In our toy model, health is a wider-open landscape where states don't really get stuck in any one electrophysiologic region.\n",
    "\n",
    "Of course, this poses a new challenge. We want to move into the \"wellness\" region that we outlined before, but how do we best do that?\n",
    "\n",
    "We could just draw a line between where we are and where we want to be, find the parameter that takes us in that direction, and go in that direction. Of course, this ignored the underlying dynamics present in our system.\n",
    "\n",
    "Think of it like a river; if we just \"stay still\" and don't move, we're not going to really stay still, we're going to flow with the river. The river may be flowing in the direction we want. Even if it's not flowing in the direction we want, we don't necessarily just want to swim exactly in the direction we want to end up. We may want to adjust our angle and speed so that we're working *with* the flow of the river instead of against it.\n",
    "\n",
    "\n",
    "Here; a figure with a limit cycle emerging. HOPF bifurcation.\n",
    "\n",
    "What does phase amplitude coupling look like in this case? We'll explore that in the next post!"
   ]
  },
  {
   "cell_type": "code",
   "execution_count": null,
   "metadata": {
    "collapsed": true
   },
   "outputs": [],
   "source": []
  }
 ],
 "metadata": {
  "kernelspec": {
   "display_name": "Python 3",
   "language": "python",
   "name": "python3"
  },
  "language_info": {
   "codemirror_mode": {
    "name": "ipython",
    "version": 3
   },
   "file_extension": ".py",
   "mimetype": "text/x-python",
   "name": "python",
   "nbconvert_exporter": "python",
   "pygments_lexer": "ipython3",
   "version": "3.6.1"
  }
 },
 "nbformat": 4,
 "nbformat_minor": 2
}
