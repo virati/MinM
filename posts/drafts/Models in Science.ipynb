{
 "cells": [
  {
   "cell_type": "markdown",
   "metadata": {},
   "source": [
    "# Models in Science\n",
    "\n",
    "Models are critical to science and, whether we know it or not, we use models anytime we do science.\n",
    "\n",
    "Statistical tests make assumptions about the underlying model being studied but when those assumptions are wrong, those statistical tests are inappropriate. Basically: if you've ever done a statistical test (t-test, ANOVA, etc.) then you've used a model. Period.\n",
    "\n",
    "So, now that we know that we're all mathematical modelers, implicitly or explicitly, let's dive into the beauty of modeling!\n",
    "\n",
    "## What is a model?\n",
    "\n",
    "A model is a \n",
    "\n",
    "## Why is it important?\n",
    "\n",
    "Scientists often spend months reading the literature to see where the current field is. They get an idea of how things are related and then use that knowledge to design a clean experiment. More details on that here, but, in a nutshell, they use information to find a subject to study, and then they *ignore the information they used to get there*. The information they used to get there informs their *hypothesis* but then they resort to null-hypothesis testing; they resort to asking simple questions like \"are they related\" instead of trying to characterize the relationship.\n",
    "\n",
    "THis is a travesty that modeling directly addresses. Models, in many ways, are quantified hypotheses. You can take knowledge from the literature, build models, and then do *directed hypothesis testing* in the context of that model. This way, we don't ignore the knowledge we used to get to our experiment and, instead, build off of it and use it.\n",
    "\n",
    "There are caveats to this. I'll outline those [below](), but we have to be very careful about what models we're hypothesis testing."
   ]
  }
 ],
 "metadata": {
  "kernelspec": {
   "display_name": "Python 3",
   "language": "python",
   "name": "python3"
  },
  "language_info": {
   "codemirror_mode": {
    "name": "ipython",
    "version": 3
   },
   "file_extension": ".py",
   "mimetype": "text/x-python",
   "name": "python",
   "nbconvert_exporter": "python",
   "pygments_lexer": "ipython3",
   "version": "3.6.0"
  }
 },
 "nbformat": 4,
 "nbformat_minor": 2
}
