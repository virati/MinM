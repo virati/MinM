{
 "cells": [
  {
   "cell_type": "markdown",
   "metadata": {},
   "source": [
    "# Characterizing Interactions in Brain Networks\n",
    "\n",
    "A lot of scientific effort goes to studying the interactions between brain regions.\n",
    "\n",
    "Here, we take a different view of the brain that is inclusive of current approaches but more completely accounts for the interactions that can occur between brain region. Specifically, we will refer to this as \"communication\". Another way of defining communication in the context of this post is in understanding state propogations; namely, when a particular node has a state response, how does it propogate to other brain regions?\n",
    "\n",
    "## Setting up the ground truth network\n",
    "\n",
    "Let's set up a simple dynamical network\n",
    "\n",
    "$ \\dot{\\vec{x}} = -L\\vec{x}$\n",
    "\n",
    "This basically says that the way X changes in time is related to how the brain regions involved connect to each other.\n",
    "\n",
    "What exactly is $\\vec{x}$? We'll refer to that as the electrical state of the brain region. We'll start with considering that a scalar value, or a single number. We'll expand on that \n",
    "\n",
    "## Phase amplitude coupling as PCA in $R^2$\n",
    "Phase amplitude coupling (PAC) has become the new go-to measure between brain regions. More work must be done to tie PCA results to underlying physiology, but here we try to build up a simple explanation of PCA in the context of brain regions with two dimensional state spaces.\n",
    "\n",
    "PCA specifically incorporates information about both the amplitude of an oscillation and the phase of an oscillation. That makes it, fundamentally, still a study of a system with oscillatory coupling."
   ]
  }
 ],
 "metadata": {
  "kernelspec": {
   "display_name": "Python 3",
   "language": "python",
   "name": "python3"
  },
  "language_info": {
   "codemirror_mode": {
    "name": "ipython",
    "version": 3
   },
   "file_extension": ".py",
   "mimetype": "text/x-python",
   "name": "python",
   "nbconvert_exporter": "python",
   "pygments_lexer": "ipython3",
   "version": "3.6.1"
  }
 },
 "nbformat": 4,
 "nbformat_minor": 2
}
