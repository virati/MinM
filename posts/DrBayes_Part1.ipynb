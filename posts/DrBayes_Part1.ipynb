{
 "cells": [
  {
   "cell_type": "markdown",
   "metadata": {},
   "source": [
    "# Rounding with Dr. Bayes\n",
    "\n",
    "Foam in. The room is dark, slits of light flittering around the room. Mrs. A is a 76 year old African American female born and raised in Atlanta. In fact, she was born just a few floors below at what was known as \"The Gradies\".\n",
    "\n",
    "You take a quick look at the sodium level: 54. What do you think?\n",
    "\n",
    "\n",
    "## Solving Problems\n",
    "\n",
    "The problem at hand is a common one that clinicians deal with all the time. It's the *differential diagnosis*, or an approach that clinicians use to determine what the underlying disease could be.\n",
    "\n",
    "A little acknowledged fact: this is a Bayesian Approach and stands in stark contrast with the approaches encouraged by the **evidence based medicine** movement in medicine.\n",
    "\n",
    "Is there a third way?\n",
    "\n",
    "Disclaimer: there are many, many articles that think splitting scientists, clinicians, and engineers into clean statistical categories is futile. In the aspirational sense: I agree. People must be adaptable and adjust their tools to the data as its presented. In practice, however, there are very clear separations in the way that people think and the catagories below capture almost all the people you'll meed in modern academic medicine.\n",
    "\n",
    "### Frequentists\n",
    "A clinical trial is the perfect example of a frequentist problem solving approach. If you're trying to say a drug B is better than drug A, then you have to gather together a lot of people, randomly group them properly, and see the effects of the drug while \"averaging out\" the effects of any other confounding variables.\n",
    "\n",
    "This approach is rigorous and, if you have the numbers needed, it is very effective at solving the question it sets up. When you don't have the numbers, or when you have more ambitious questions, it is woefully misleading and inadequate.\n",
    "\n",
    "### Bayesians\n",
    "\n",
    "### Likelihoodists\n",
    "\n",
    "\n",
    "\n"
   ]
  }
 ],
 "metadata": {
  "anaconda-cloud": {},
  "kernelspec": {
   "display_name": "Python 3",
   "language": "python",
   "name": "python3"
  },
  "language_info": {
   "codemirror_mode": {
    "name": "ipython",
    "version": 3
   },
   "file_extension": ".py",
   "mimetype": "text/x-python",
   "name": "python",
   "nbconvert_exporter": "python",
   "pygments_lexer": "ipython3",
   "version": "3.6.1"
  }
 },
 "nbformat": 4,
 "nbformat_minor": 1
}
