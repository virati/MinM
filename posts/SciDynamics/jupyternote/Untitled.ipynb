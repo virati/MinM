{
 "cells": [
  {
   "cell_type": "markdown",
   "metadata": {},
   "source": [
    "# Science, Engineering, and Dynamics\n",
    "\n",
    "## How effective is the modern scientific approach in capturing complex dynamics?\n",
    "\n",
    "\n",
    "### Introduction\n",
    "\n",
    "\n",
    "### Setting up definitions\n",
    "\n",
    "First, let's really define what science and engineering is.\n",
    "\n",
    "In both cases, the underlying goal is to *infer* the joint distribution of a set of variables. In science, we do this by keeping all but two variables *constant*, choose one variable as our *independent variable* that we can reliably manipulate, and measure another *dependent variable* in order to see if it's related to the *independent variable*.\n",
    "\n",
    "There is nothing \n",
    "\n",
    "For this discussion, we will consider clinical practice high-stakes engineering."
   ]
  }
 ],
 "metadata": {
  "kernelspec": {
   "display_name": "Python 3",
   "language": "python",
   "name": "python3"
  },
  "language_info": {
   "codemirror_mode": {
    "name": "ipython",
    "version": 3
   },
   "file_extension": ".py",
   "mimetype": "text/x-python",
   "name": "python",
   "nbconvert_exporter": "python",
   "pygments_lexer": "ipython3",
   "version": "3.6.2"
  }
 },
 "nbformat": 4,
 "nbformat_minor": 2
}
