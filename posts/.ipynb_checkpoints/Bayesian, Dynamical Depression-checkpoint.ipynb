{
 "cells": [
  {
   "cell_type": "markdown",
   "metadata": {},
   "source": [
    "# A Bayesian Framework for Studying Depression as a Dynamical Disease\n",
    "\n",
    "## Abstract\n",
    "\n",
    "## Introduction\n",
    "\n",
    "Depression is a complex, vaguely defined disease. If I was forced to define it: depression is a particular region of behavior-space. Or, less ECE-wise, depression is a particular set of patterns of behaviors that deviate from the normal.\n",
    "\n",
    "## The Framework\n",
    "\n",
    "\n",
    "## Why it's useful\n",
    "\n",
    "## Studies being done in this framework\n",
    "\n",
    "The work we're doing in the Mayberg Lab with respect to the electrophysiology of depression is steeped in this framework. It helps keep the very messy experimental setup (patients and their lives tend to ruin our attempts at rigorous scientific control of all variables) transparent in its messiness. Specifically: I always like to know what we're assuming, which variables are marginalized over, which are conditional, etc.\n",
    "\n",
    "## What are we all here trying to do?\n",
    "\n",
    "In brief, we're trying to characterize the joint distribution of interest. Read more [here]()\n",
    "\n",
    "Quick recap:\n",
    "\n",
    "We're trying to infer $P(O,I,\\bf{S})$\n",
    "\n",
    "If you think about it, I just wrote the dumbest thing. That's, for an intents and purposes, \"god\". We want the joint probability distribution of things that could input into the brain, the brain itself, and anything that can arise from the brain. That blackhole that is 80 billion light years from here? Yup, that's probably in this distribution\n",
    "\n",
    "So, we have to narrow down to the scope of our problem. This is important, because everything else comes from this. But it makes our assumptions/scope explicitly clear in the mathematics\n",
    "\n",
    "### Our experimental questions, goals\n",
    "\n",
    "### Out experimental setup\n",
    "\n",
    "Is our setup able to address our questions and goals?"
   ]
  }
 ],
 "metadata": {
  "kernelspec": {
   "display_name": "Python 3",
   "language": "python",
   "name": "python3"
  },
  "language_info": {
   "codemirror_mode": {
    "name": "ipython",
    "version": 3
   },
   "file_extension": ".py",
   "mimetype": "text/x-python",
   "name": "python",
   "nbconvert_exporter": "python",
   "pygments_lexer": "ipython3",
   "version": "3.6.1"
  }
 },
 "nbformat": 4,
 "nbformat_minor": 2
}
